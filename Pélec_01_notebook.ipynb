{
 "cells": [
  {
   "cell_type": "markdown",
   "metadata": {},
   "source": [
    "# Anticipez les besoins en consommation électrique de bâtiments\n",
    "- **Projet 4 du parcours « Data Scientist » d’OpenClassrooms**\n",
    "- **Mark Creasey**\n",
    "## Partie 1 : Nettoyage et analyse exploratoire des données\n",
    "<img height=\"64\" src=\"https://user.oc-static.com/upload/2019/02/24/15510245026714_Seattle_logo_landscape_blue-black.png\" alt=\"Logo seattle\">"
   ]
  },
  {
   "cell_type": "markdown",
   "metadata": {},
   "source": [
    "# 1. Compréhension du problème"
   ]
  },
  {
   "cell_type": "markdown",
   "metadata": {},
   "source": [
    "## 1.1 Import de bibliothèques\n",
    "- voir `requirements.txt` pour les versions des bibliothèques testés avec ce notebook  "
   ]
  },
  {
   "cell_type": "code",
   "execution_count": 1,
   "metadata": {},
   "outputs": [],
   "source": [
    "import numpy as np\n",
    "import pandas as pd\n",
    "import matplotlib.pyplot as plt\n",
    "import seaborn as sns"
   ]
  },
  {
   "cell_type": "markdown",
   "metadata": {},
   "source": [
    "# Import et nettoyage des données\n",
    "\n",
    "# 2.1 Import des données\n",
    "Les données de consommation sont à télécharger à [cette adresse](https://www.kaggle.com/city-of-seattle/sea-building-energy-benchmarking#2015-building-energy-benchmarking.csv)."
   ]
  },
  {
   "cell_type": "markdown",
   "metadata": {},
   "source": [
    "### 2.1.1 Metadonnées\n",
    "- les déscriptions des champs sont fournies par les fichiers metadata (format json)\n",
    "- conversion en CSV pour faciliter la lecture"
   ]
  },
  {
   "cell_type": "code",
   "execution_count": 2,
   "metadata": {},
   "outputs": [
    {
     "name": "stdout",
     "output_type": "stream",
     "text": [
      "2015 : il y a 47 colonnes\n",
      "2016 : il y a 46 colonnes\n"
     ]
    }
   ],
   "source": [
    "import os\n",
    "import json\n",
    "\n",
    "\n",
    "def create_data_dict_csv_from_json(file: str, outfile: str) -> pd.DataFrame:\n",
    "    data = json.loads(open(file, \"r\").read())\n",
    "    df = pd.json_normalize([data], record_path='columns', max_level=0)\n",
    "    df = df[['name', 'dataTypeName', 'description']]\n",
    "    df.to_csv(outfile)\n",
    "    return df\n",
    "\n",
    "\n",
    "meta2015 = 'data/raw/socrata_metadata_2015-building-energy-benchmarking.json'\n",
    "meta2016 = 'data/raw/socrata_metadata_2016-building-energy-benchmarking.json'\n",
    "\n",
    "if not os.path.exists('data/out'):\n",
    "    os.makedirs('data/out')\n",
    "out2015 = 'data/out/datadict2015.csv'\n",
    "out2016 = 'data/out/datadict2016.csv'\n",
    "\n",
    "dict2015 = create_data_dict_csv_from_json(meta2015, out2015)\n",
    "dict2016 = create_data_dict_csv_from_json(meta2016, out2016)\n",
    "print(f'2015 : il y a {len(dict2015)} colonnes')\n",
    "print(f'2016 : il y a {len(dict2016)} colonnes')\n"
   ]
  }
 ],
 "metadata": {
  "interpreter": {
   "hash": "08f54268de9884c973a82c2c5267bbf1de8fae7577a142dd199c5c3f90c0dd65"
  },
  "kernelspec": {
   "display_name": "Python 3.7.0 64-bit ('OC_3': conda)",
   "language": "python",
   "name": "python3"
  },
  "language_info": {
   "codemirror_mode": {
    "name": "ipython",
    "version": 3
   },
   "file_extension": ".py",
   "mimetype": "text/x-python",
   "name": "python",
   "nbconvert_exporter": "python",
   "pygments_lexer": "ipython3",
   "version": "3.7.0"
  },
  "orig_nbformat": 4
 },
 "nbformat": 4,
 "nbformat_minor": 2
}
