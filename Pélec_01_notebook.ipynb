{
 "cells": [
  {
   "cell_type": "markdown",
   "metadata": {},
   "source": [
    "# Anticipez les besoins en consommation électrique de bâtiments\n",
    "\n",
    "- **Projet 4 du parcours « Data Scientist » d’OpenClassrooms**\n",
    "- **Mark Creasey**\n",
    "\n",
    "## Partie 1 : Nettoyage et analyse exploratoire des données\n",
    "\n",
    "<img width=\"200\" src=\"https://user.oc-static.com/upload/2019/02/24/15510245026714_Seattle_logo_landscape_blue-black.png\" alt=\"Logo seattle\">\n"
   ]
  },
  {
   "cell_type": "markdown",
   "metadata": {},
   "source": [
    "# 1. Compréhension du problème\n",
    "\n",
    "## 1.1 Mission\n",
    "\n",
    "À partir des [relevés déjà réalisés en 2015 et 2016](https://www.kaggle.com/city-of-seattle/sea-building-energy-benchmarking#2015-building-energy-benchmarking.csv) :\n",
    "\n",
    "- **prédire les émissions de CO2** et la **consommation totale d’énergie** de bâtiments commerciales en Seattle pour lesquels elles n’ont pas encore été mesurées, basé sur les données déclaratives du permis d'exploitation commerciale (taille et usage des bâtiments, mention de travaux récents, date de construction…).\n",
    "\n",
    "- **évaluer l’intérêt de l’[ENERGY STAR Score](https://www.energystar.gov/buildings/facility-owners-and-managers/existing-buildings/use-portfolio-manager/interpret-your-results/what) pour la prédiction d’émissions**.\n",
    "\n"
   ]
  },
  {
   "cell_type": "markdown",
   "source": [
    "### 1.1.1 Quelles variables pour prédire les consommations / emissions CO2 ?\n",
    "\n",
    "Il faut prédire les targets uniquement avec les données disponibles sur le permis d'exploitation commerciale :\n",
    "\n",
    "- on ne peut pas utiliser les relevés de consommation d'électricité, de gaz, etc comme paramètres des prévisions.\n",
    "- on peut utiliser type d'usage, surface, nombre d'étages, moyenne de chauffage, ...\n"
   ],
   "metadata": {
    "collapsed": false,
    "pycharm": {
     "name": "#%% md\n"
    }
   }
  },
  {
   "cell_type": "markdown",
   "source": [
    "### 1.1.2 Quels bâtiments à inclure dans les prévisions ?\n",
    "Il faut prédire les targets uniquement pour les bâtiments commerciaux.\n",
    "\n",
    "Donc, il faut éliminer les bâtiments residential, si possible."
   ],
   "metadata": {
    "collapsed": false,
    "pycharm": {
     "name": "#%% md\n"
    }
   }
  },
  {
   "cell_type": "markdown",
   "metadata": {},
   "source": [
    "## 1.1 Import de bibliothèques\n",
    "\n",
    "- voir `requirements.txt` pour les versions des bibliothèques testées avec ce notebook\n"
   ]
  },
  {
   "cell_type": "code",
   "execution_count": 1,
   "metadata": {},
   "outputs": [],
   "source": [
    "\n",
    "import pandas as pd\n",
    "import seaborn as sns\n"
   ]
  },
  {
   "cell_type": "code",
   "execution_count": 2,
   "metadata": {},
   "outputs": [],
   "source": [
    "pd.set_option('display.max_columns', 200)  # pour afficher toutes les colonnes\n",
    "pd.set_option('display.max_rows', 10)  # pour afficher max 10 lignes\n",
    "pd.set_option('display.max_colwidth', 800)  # pour afficher toutes la text\n",
    "\n",
    "% matplotlib inline\n",
    "sns.set_theme(style=\"white\", context=\"notebook\")\n",
    "sns.set_color_codes(\"pastel\")\n",
    "sns.set_palette(\"tab20\")"
   ]
  },
  {
   "cell_type": "markdown",
   "metadata": {},
   "source": [
    "# Import et nettoyage des données\n",
    "\n",
    "# 2.1 Import des données\n",
    "\n",
    "Les données de consommation sont à télécharger à [cette adresse](https://www.kaggle.com/city-of-seattle/sea-building-energy-benchmarking#2015-building-energy-benchmarking.csv).\n"
   ]
  },
  {
   "cell_type": "markdown",
   "metadata": {},
   "source": [
    "### 2.1.1 Les métadonnées\n",
    "\n",
    "- les descriptions des champs sont fournies par les fichiers metadata (format json)\n",
    "- conversion en CSV pour faciliter la lecture\n"
   ]
  },
  {
   "cell_type": "code",
   "execution_count": 3,
   "metadata": {},
   "outputs": [
    {
     "name": "stdout",
     "output_type": "stream",
     "text": [
      "2015 : il y a 47 colonnes\n",
      "2016 : il y a 46 colonnes\n"
     ]
    }
   ],
   "source": [
    "import os\n",
    "import json\n",
    "\n",
    "\n",
    "def create_data_dict_csv_from_json(file: str, outfile: str) -> pd.DataFrame:\n",
    "    if os.path.exists(outfile):\n",
    "        return pd.read_csv(outfile).iloc[:, -3:]\n",
    "    data = json.loads(open(file, \"r\").read())\n",
    "    df = pd.json_normalize([data], record_path='columns', max_level=0)\n",
    "    df = df[['name', 'dataTypeName', 'description']]\n",
    "    df.to_csv(outfile)\n",
    "    return df\n",
    "\n",
    "\n",
    "meta2015 = 'data/raw/socrata_metadata_2015-building-energy-benchmarking.json'\n",
    "meta2016 = 'data/raw/socrata_metadata_2016-building-energy-benchmarking.json'\n",
    "\n",
    "if not os.path.exists('data/out'):\n",
    "    os.makedirs('data/out')\n",
    "out2015 = 'data/out/datadict2015.csv'\n",
    "out2016 = 'data/out/datadict2016.csv'\n",
    "\n",
    "dict2015 = create_data_dict_csv_from_json(meta2015, out2015)\n",
    "dict2016 = create_data_dict_csv_from_json(meta2016, out2016)\n",
    "print(f'2015 : il y a {len(dict2015)} colonnes')\n",
    "print(f'2016 : il y a {len(dict2016)} colonnes')\n"
   ]
  },
  {
   "cell_type": "markdown",
   "metadata": {},
   "source": [
    "## Les target (labels) à prédire\n",
    "\n",
    "En regardent les descriptions des champs (les fichiers CSV), on voit que les champs à prédire sont :\n",
    "\n",
    "- `SiteEnergyUse(kBtu)` = **consommation totale d’énergie**\n",
    "- `TotalGHGEmissions` = **les émissions de CO2 (equivalence)**\n",
    "\n",
    "Il y aussi le champ `ENERGYSTARScore` à évaluer pour la prédiction\n"
   ]
  },
  {
   "cell_type": "code",
   "execution_count": 6,
   "metadata": {},
   "outputs": [
    {
     "data": {
      "text/html": [
       "<div>\n",
       "<style scoped>\n",
       "    .dataframe tbody tr th:only-of-type {\n",
       "        vertical-align: middle;\n",
       "    }\n",
       "\n",
       "    .dataframe tbody tr th {\n",
       "        vertical-align: top;\n",
       "    }\n",
       "\n",
       "    .dataframe thead th {\n",
       "        text-align: right;\n",
       "    }\n",
       "</style>\n",
       "<table border=\"1\" class=\"dataframe\">\n",
       "  <thead>\n",
       "    <tr style=\"text-align: right;\">\n",
       "      <th></th>\n",
       "      <th>name</th>\n",
       "      <th>dataTypeName</th>\n",
       "      <th>description</th>\n",
       "    </tr>\n",
       "  </thead>\n",
       "  <tbody>\n",
       "    <tr>\n",
       "      <th>28</th>\n",
       "      <td>ENERGYSTARScore</td>\n",
       "      <td>text</td>\n",
       "      <td>An EPA calculated 1-100 rating that assesses a property’s overall energy performance, based on national data to control for differences among climate, building uses, and operations. A score of 50 represents the national median.</td>\n",
       "    </tr>\n",
       "    <tr>\n",
       "      <th>33</th>\n",
       "      <td>SiteEnergyUse(kBtu)</td>\n",
       "      <td>number</td>\n",
       "      <td>The annual amount of energy consumed by the property from all sources of energy.</td>\n",
       "    </tr>\n",
       "    <tr>\n",
       "      <th>44</th>\n",
       "      <td>TotalGHGEmissions</td>\n",
       "      <td>text</td>\n",
       "      <td>The total amount of greenhouse gas emissions, including carbon dioxide, methane, and nitrous oxide gases released into the atmosphere as a result of energy consumption at the property, measured in metric tons of carbon dioxide equivalent. This calculation uses a GHG emissions factor from Seattle CIty Light's portfolio of generating resources. This uses Seattle City Light's 2015 emissions factor of 52.44 lbs CO2e/MWh until the 2016 factor is available. Enwave steam factor = 170.17 lbs CO2e/MMBtu. Gas factor sourced from EPA Portfolio Manager = 53.11 kg CO2e/MBtu.</td>\n",
       "    </tr>\n",
       "  </tbody>\n",
       "</table>\n",
       "</div>"
      ],
      "text/plain": [
       "                   name dataTypeName  \\\n",
       "28      ENERGYSTARScore         text   \n",
       "33  SiteEnergyUse(kBtu)       number   \n",
       "44    TotalGHGEmissions         text   \n",
       "\n",
       "                                                                                                                                                                                                                                                                                                                                                                                                                                                                                                                                                                                  description  \n",
       "28                                                                                                                                                                                                                                                                                                                                                        An EPA calculated 1-100 rating that assesses a property’s overall energy performance, based on national data to control for differences among climate, building uses, and operations. A score of 50 represents the national median.  \n",
       "33                                                                                                                                                                                                                                                                                                                                                                                                                                                                                                           The annual amount of energy consumed by the property from all sources of energy.  \n",
       "44  The total amount of greenhouse gas emissions, including carbon dioxide, methane, and nitrous oxide gases released into the atmosphere as a result of energy consumption at the property, measured in metric tons of carbon dioxide equivalent. This calculation uses a GHG emissions factor from Seattle CIty Light's portfolio of generating resources. This uses Seattle City Light's 2015 emissions factor of 52.44 lbs CO2e/MWh until the 2016 factor is available. Enwave steam factor = 170.17 lbs CO2e/MMBtu. Gas factor sourced from EPA Portfolio Manager = 53.11 kg CO2e/MBtu.   "
      ]
     },
     "execution_count": 6,
     "metadata": {},
     "output_type": "execute_result"
    }
   ],
   "source": [
    "dict2016[dict2016['name'].isin(\n",
    "    ['SiteEnergyUse(kBtu)', 'TotalGHGEmissions', 'ENERGYSTARScore'])]\n"
   ]
  },
  {
   "cell_type": "markdown",
   "metadata": {},
   "source": [
    "### Est-ce que les données de 2015 et 2016 sont compatibles ?\n"
   ]
  },
  {
   "cell_type": "code",
   "execution_count": 7,
   "metadata": {},
   "outputs": [
    {
     "name": "stdout",
     "output_type": "stream",
     "text": [
      "colonnes unique à année 2015 : ['2010 Census Tracts', 'City Council Districts', 'Comment', 'GHGEmissions(MetricTonsCO2e)', 'GHGEmissionsIntensity(kgCO2e/ft2)', 'Location', 'OtherFuelUse(kBtu)', 'SPD Beats', 'Seattle Police Department Micro Community Policing Plan Areas', 'Zip Codes']\n",
      "colonnes unique à année 2016 : ['Address', 'City', 'Comments', 'GHGEmissionsIntensity', 'Latitude', 'Longitude', 'State', 'TotalGHGEmissions', 'ZipCode']\n"
     ]
    }
   ],
   "source": [
    "cols_unique2015 = set(list(dict2015['name'])) - set(list(dict2016['name']))\n",
    "cols_unique2016 = set(list(dict2016['name'])) - set(list(dict2015['name']))\n",
    "print(f'colonnes unique à année 2015 : {sorted(cols_unique2015)}')\n",
    "print(f'colonnes unique à année 2016 : {sorted(cols_unique2016)}')\n"
   ]
  },
  {
   "cell_type": "markdown",
   "metadata": {},
   "source": []
  }
 ],
 "metadata": {
  "interpreter": {
   "hash": "08f54268de9884c973a82c2c5267bbf1de8fae7577a142dd199c5c3f90c0dd65"
  },
  "kernelspec": {
   "display_name": "Python 3.7.0 64-bit ('OC_3': conda)",
   "language": "python",
   "name": "python3"
  },
  "language_info": {
   "codemirror_mode": {
    "name": "ipython",
    "version": 3
   },
   "file_extension": ".py",
   "mimetype": "text/x-python",
   "name": "python",
   "nbconvert_exporter": "python",
   "pygments_lexer": "ipython3",
   "version": "3.7.0"
  },
  "orig_nbformat": 4
 },
 "nbformat": 4,
 "nbformat_minor": 2
}