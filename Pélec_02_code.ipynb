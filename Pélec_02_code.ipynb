{
 "cells": [
  {
   "cell_type": "markdown",
   "metadata": {},
   "source": [
    "# Anticipez les besoins en consommation électrique de bâtiments\n",
    "\n",
    "- **Projet 4 du parcours « Data Scientist » d’OpenClassrooms**\n",
    "- **Mark Creasey**\n",
    "\n",
    "## Partie 2 : Modélisation et Résultats\n",
    "\n",
    "<img height=\"64\" src=\"https://user.oc-static.com/upload/2019/02/24/15510245026714_Seattle_logo_landscape_blue-black.png\" alt=\"Logo seattle\">\n"
   ]
  },
  {
   "cell_type": "markdown",
   "metadata": {},
   "source": [
    "## 1.1 Mission\n",
    "\n",
    "À partir des [relevés déjà réalisés en 2015 et 2016](https://www.kaggle.com/city-of-seattle/sea-building-energy-benchmarking#2015-building-energy-benchmarking.csv) :\n",
    "\n",
    "- **prédire les émissions de CO2** et la **consommation totale d’énergie** de bâtiments commerciales en Seattle pour lesquels elles n’ont pas encore été mesurées, basé sur les données déclaratives du permis d'exploitation commerciale (taille et usage des bâtiments, mention de travaux récents, date de construction ...).\n",
    "\n",
    "- **évaluer l’intérêt de l’[ENERGY STAR Score](https://www.energystar.gov/buildings/facility-owners-and-managers/existing-buildings/use-portfolio-manager/interpret-your-results/what) pour la prédiction d’émissions**.\n"
   ]
  },
  {
   "cell_type": "markdown",
   "metadata": {},
   "source": [
    "## 1.2 Requirements : Bibliothèques utilisées dans ce notebook\n"
   ]
  },
  {
   "cell_type": "markdown",
   "metadata": {},
   "source": [
    "### 1.2.1 Import des bibliothèques\n"
   ]
  },
  {
   "cell_type": "code",
   "execution_count": 1,
   "metadata": {},
   "outputs": [],
   "source": [
    "import os\n",
    "import numpy as np\n",
    "import pandas as pd\n",
    "import matplotlib.pyplot as plt\n",
    "import seaborn as sns\n",
    "import scipy\n",
    "import sklearn\n"
   ]
  },
  {
   "cell_type": "markdown",
   "metadata": {},
   "source": [
    "### 1.2.2 Liste des versions des bibliothèques utilisées\n"
   ]
  },
  {
   "cell_type": "code",
   "execution_count": 2,
   "metadata": {},
   "outputs": [
    {
     "name": "stdout",
     "output_type": "stream",
     "text": [
      "versions des bibliothèques utilisées:\n",
      "numpy==1.21.5; pandas==1.1.5; seaborn==0.11.2; scipy==1.7.3; sklearn==1.0.2\n"
     ]
    }
   ],
   "source": [
    "from platform import python_version\n",
    "python_version()\n",
    "\n",
    "print('versions des bibliothèques utilisées:')\n",
    "print('; '.join(f'{m.__name__}=={m.__version__}' for m in globals(\n",
    ").values() if getattr(m, '__version__', None)))\n"
   ]
  },
  {
   "cell_type": "markdown",
   "metadata": {},
   "source": [
    "### 1.2.3 Configuration défauts d'affichage\n"
   ]
  },
  {
   "cell_type": "code",
   "execution_count": 3,
   "metadata": {},
   "outputs": [],
   "source": [
    "pd.set_option('display.max_columns', 200)  # pour afficher toutes les colonnes\n",
    "pd.set_option('display.max_rows', 20)  # pour afficher max 10 lignes\n",
    "pd.set_option('display.max_colwidth', 800)  # pour afficher toutes la text\n",
    "# pd.set_option('display.precision', 2)\n",
    "\n",
    "%matplotlib inline\n",
    "sns.set_theme(style=\"white\", context=\"notebook\")\n",
    "sns.set_color_codes(\"pastel\")\n",
    "sns.set_palette(\"tab20\")\n"
   ]
  },
  {
   "cell_type": "markdown",
   "metadata": {},
   "source": [
    "## 1.3 Des fonctions utilitaires\n",
    "\n",
    "Pour enregistrer les graphiques, define **`SAVE_IMAGES = True`**\n"
   ]
  },
  {
   "cell_type": "code",
   "execution_count": 4,
   "metadata": {},
   "outputs": [],
   "source": [
    "SAVE_IMAGES = True\n",
    "IMAGE_FOLDER = './images'\n",
    "if not os.path.exists(IMAGE_FOLDER):\n",
    "    os.makedirs(IMAGE_FOLDER)\n",
    "\n",
    "\n",
    "def to_png(fig_name=None):\n",
    "    \"\"\"\n",
    "    Enregistre l'image dans un fichier,\n",
    "    il faut appeler avant plt.show() pour pouvoir ajuster la taille de l'image\n",
    "    avec bbox_inches=tight pour être sûr d'inclure le titre / legend entier.\n",
    "    \"\"\"\n",
    "    def get_title():\n",
    "        if plt.gcf()._suptitle is None:  # noqa\n",
    "            return plt.gca().get_title()\n",
    "        else:\n",
    "            return plt.gcf()._suptitle.get_text()  # noqa\n",
    "\n",
    "    if SAVE_IMAGES:\n",
    "        if fig_name is None:\n",
    "            fig_name = get_title()\n",
    "        elif len(fig_name) < 9:\n",
    "            fig_name = f'{fig_name}_{get_title()}'\n",
    "        fig_name = fig_name.replace(' ', '_').replace(\n",
    "            ':', '-').replace('.', '-').replace('/', '_')\n",
    "        print(f'\"{fig_name}.png\"')\n",
    "        plt.gcf().savefig(\n",
    "            f'{IMAGE_FOLDER}/{fig_name}.png', bbox_inches='tight')\n"
   ]
  },
  {
   "cell_type": "markdown",
   "metadata": {},
   "source": [
    "### 1.3.2 Vérifier que les colonnes sont dans le dataframe\n",
    "\n",
    "- sans changer l'ordre des colonnes\n"
   ]
  },
  {
   "cell_type": "code",
   "execution_count": 5,
   "metadata": {},
   "outputs": [],
   "source": [
    "def cols_in_df(df: pd.DataFrame, colonnes: list = None) -> list:\n",
    "    \"\"\"Procedure pour retourner les colonnes existantes dans le dataframe dans la même ordre.\n",
    "    Utiliser pour assurer que les colonnes existe.\n",
    "    \"\"\"\n",
    "    ret_cols = []\n",
    "    for col in colonnes:\n",
    "        if col in df.columns:\n",
    "            ret_cols.append(col)\n",
    "    return ret_cols\n"
   ]
  },
  {
   "cell_type": "markdown",
   "metadata": {},
   "source": [
    "## 1.4 Les métriques d'évaluation\n"
   ]
  },
  {
   "cell_type": "markdown",
   "metadata": {},
   "source": [
    "# 2. Données d'entrainement et test\n"
   ]
  },
  {
   "cell_type": "markdown",
   "metadata": {},
   "source": [
    "## Import des données nettoyées\n"
   ]
  },
  {
   "cell_type": "code",
   "execution_count": 6,
   "metadata": {},
   "outputs": [
    {
     "data": {
      "text/html": [
       "<div>\n",
       "<style scoped>\n",
       "    .dataframe tbody tr th:only-of-type {\n",
       "        vertical-align: middle;\n",
       "    }\n",
       "\n",
       "    .dataframe tbody tr th {\n",
       "        vertical-align: top;\n",
       "    }\n",
       "\n",
       "    .dataframe thead th {\n",
       "        text-align: right;\n",
       "    }\n",
       "</style>\n",
       "<table border=\"1\" class=\"dataframe\">\n",
       "  <thead>\n",
       "    <tr style=\"text-align: right;\">\n",
       "      <th></th>\n",
       "      <th>OSEBuildingID</th>\n",
       "      <th>DataYear</th>\n",
       "      <th>NumberofFloors</th>\n",
       "      <th>LargestPropertyUseTypeGFA</th>\n",
       "      <th>ENERGYSTARScore</th>\n",
       "      <th>SiteEnergyUse(kBtu)</th>\n",
       "      <th>TotalGHGEmissions</th>\n",
       "      <th>ZipCode</th>\n",
       "      <th>PrimaryUseType</th>\n",
       "      <th>building_age</th>\n",
       "      <th>area_per_floor</th>\n",
       "      <th>percent_parking</th>\n",
       "      <th>distance(km)</th>\n",
       "    </tr>\n",
       "  </thead>\n",
       "  <tbody>\n",
       "    <tr>\n",
       "      <th>0</th>\n",
       "      <td>1</td>\n",
       "      <td>2015</td>\n",
       "      <td>12.0</td>\n",
       "      <td>88434.0</td>\n",
       "      <td>65.0</td>\n",
       "      <td>6981428.0</td>\n",
       "      <td>249.43</td>\n",
       "      <td>98101</td>\n",
       "      <td>hotel-like</td>\n",
       "      <td>95</td>\n",
       "      <td>7369.500000</td>\n",
       "      <td>0.000000</td>\n",
       "      <td>0.556751</td>\n",
       "    </tr>\n",
       "    <tr>\n",
       "      <th>1</th>\n",
       "      <td>2</td>\n",
       "      <td>2015</td>\n",
       "      <td>11.0</td>\n",
       "      <td>83880.0</td>\n",
       "      <td>51.0</td>\n",
       "      <td>8354235.0</td>\n",
       "      <td>263.51</td>\n",
       "      <td>98101</td>\n",
       "      <td>hotel-like</td>\n",
       "      <td>26</td>\n",
       "      <td>8045.636364</td>\n",
       "      <td>0.145453</td>\n",
       "      <td>0.354915</td>\n",
       "    </tr>\n",
       "    <tr>\n",
       "      <th>2</th>\n",
       "      <td>3</td>\n",
       "      <td>2015</td>\n",
       "      <td>41.0</td>\n",
       "      <td>757243.0</td>\n",
       "      <td>18.0</td>\n",
       "      <td>73130656.0</td>\n",
       "      <td>2061.48</td>\n",
       "      <td>98101</td>\n",
       "      <td>hotel-like</td>\n",
       "      <td>53</td>\n",
       "      <td>23463.170732</td>\n",
       "      <td>0.000000</td>\n",
       "      <td>0.442002</td>\n",
       "    </tr>\n",
       "    <tr>\n",
       "      <th>3</th>\n",
       "      <td>5</td>\n",
       "      <td>2015</td>\n",
       "      <td>10.0</td>\n",
       "      <td>61320.0</td>\n",
       "      <td>1.0</td>\n",
       "      <td>28229320.0</td>\n",
       "      <td>1936.34</td>\n",
       "      <td>98101</td>\n",
       "      <td>hotel-like</td>\n",
       "      <td>96</td>\n",
       "      <td>6132.000000</td>\n",
       "      <td>0.000000</td>\n",
       "      <td>0.315723</td>\n",
       "    </tr>\n",
       "    <tr>\n",
       "      <th>4</th>\n",
       "      <td>8</td>\n",
       "      <td>2015</td>\n",
       "      <td>18.0</td>\n",
       "      <td>123445.0</td>\n",
       "      <td>67.0</td>\n",
       "      <td>14829099.0</td>\n",
       "      <td>507.70</td>\n",
       "      <td>98121</td>\n",
       "      <td>hotel-like</td>\n",
       "      <td>42</td>\n",
       "      <td>5968.333333</td>\n",
       "      <td>0.103929</td>\n",
       "      <td>0.608448</td>\n",
       "    </tr>\n",
       "  </tbody>\n",
       "</table>\n",
       "</div>"
      ],
      "text/plain": [
       "   OSEBuildingID  DataYear  NumberofFloors  LargestPropertyUseTypeGFA  \\\n",
       "0              1      2015            12.0                    88434.0   \n",
       "1              2      2015            11.0                    83880.0   \n",
       "2              3      2015            41.0                   757243.0   \n",
       "3              5      2015            10.0                    61320.0   \n",
       "4              8      2015            18.0                   123445.0   \n",
       "\n",
       "   ENERGYSTARScore  SiteEnergyUse(kBtu)  TotalGHGEmissions  ZipCode  \\\n",
       "0             65.0            6981428.0             249.43    98101   \n",
       "1             51.0            8354235.0             263.51    98101   \n",
       "2             18.0           73130656.0            2061.48    98101   \n",
       "3              1.0           28229320.0            1936.34    98101   \n",
       "4             67.0           14829099.0             507.70    98121   \n",
       "\n",
       "  PrimaryUseType  building_age  area_per_floor  percent_parking  distance(km)  \n",
       "0     hotel-like            95     7369.500000         0.000000      0.556751  \n",
       "1     hotel-like            26     8045.636364         0.145453      0.354915  \n",
       "2     hotel-like            53    23463.170732         0.000000      0.442002  \n",
       "3     hotel-like            96     6132.000000         0.000000      0.315723  \n",
       "4     hotel-like            42     5968.333333         0.103929      0.608448  "
      ]
     },
     "execution_count": 6,
     "metadata": {},
     "output_type": "execute_result"
    }
   ],
   "source": [
    "model_df = pd.read_csv('data/out/cleaned_data.csv')\n",
    "model_df.head()\n"
   ]
  },
  {
   "cell_type": "markdown",
   "metadata": {},
   "source": [
    "### Vérification que toutes les colonnes sont 100% remplies\n"
   ]
  },
  {
   "cell_type": "code",
   "execution_count": 7,
   "metadata": {},
   "outputs": [
    {
     "name": "stdout",
     "output_type": "stream",
     "text": [
      "<class 'pandas.core.frame.DataFrame'>\n",
      "RangeIndex: 2986 entries, 0 to 2985\n",
      "Data columns (total 13 columns):\n",
      " #   Column                     Non-Null Count  Dtype  \n",
      "---  ------                     --------------  -----  \n",
      " 0   OSEBuildingID              2986 non-null   int64  \n",
      " 1   DataYear                   2986 non-null   int64  \n",
      " 2   NumberofFloors             2986 non-null   float64\n",
      " 3   LargestPropertyUseTypeGFA  2986 non-null   float64\n",
      " 4   ENERGYSTARScore            1990 non-null   float64\n",
      " 5   SiteEnergyUse(kBtu)        2986 non-null   float64\n",
      " 6   TotalGHGEmissions          2986 non-null   float64\n",
      " 7   ZipCode                    2986 non-null   int64  \n",
      " 8   PrimaryUseType             2986 non-null   object \n",
      " 9   building_age               2986 non-null   int64  \n",
      " 10  area_per_floor             2986 non-null   float64\n",
      " 11  percent_parking            2986 non-null   float64\n",
      " 12  distance(km)               2986 non-null   float64\n",
      "dtypes: float64(8), int64(4), object(1)\n",
      "memory usage: 303.4+ KB\n"
     ]
    }
   ],
   "source": [
    "model_df.info(verbose=True)\n"
   ]
  },
  {
   "cell_type": "code",
   "execution_count": 8,
   "metadata": {},
   "outputs": [
    {
     "data": {
      "text/plain": [
       "0.333556597454789"
      ]
     },
     "execution_count": 8,
     "metadata": {},
     "output_type": "execute_result"
    }
   ],
   "source": [
    "model_df['ENERGYSTARScore'].isna().sum()/len(model_df)\n"
   ]
  },
  {
   "cell_type": "markdown",
   "metadata": {},
   "source": [
    "On voit que toutes les colonnes sont 100% non_null, sauf ENERGYSTARScore (1990 de 2986 valeurs remplis)\n",
    "\n",
    "L'ENERGYSTARScore est applicable seulement pour 21 des plus de 80 PropertyTypes, donc cette colonne n'est pas 100% remplie. Pour la première partie de la modélisation, on n'utilise pas cette colonne pour les prévisions.\n",
    "\n",
    "- Imputer l'ENERGYSTARScore pour les autres PropertyTypes n'a aucun sense, car c'est un ranking parmi les bâtiments de la même PropertyType dans tout le pays\n",
    "\n",
    "- On évaluera plus tard l'utilité de cette colonne seulement pour les PropertyTypes ou il est présent, en excluant les lignes ou ce n'est pas présent\n"
   ]
  },
  {
   "cell_type": "markdown",
   "metadata": {},
   "source": [
    "### Corriger datatypes\n",
    "\n",
    "Certains champs numériques sont catégoriques (ZipCode, DataYear), ou identifiants des bâtiments (OSEBuildingID) :\n",
    "\n",
    "- **DataYear** et **ZipCode**ZipCode sont potentiellement des variables catégoriques à inclure dans les modèles\n",
    "- **OSEBuildingID** sera utilisé pour analyser et interpréter les erreurs des prédictions, mais ce champ n'est pas utilisé dans la modélisation\n",
    "\n",
    "On les convertit en type 'object'\n"
   ]
  },
  {
   "cell_type": "code",
   "execution_count": 9,
   "metadata": {},
   "outputs": [
    {
     "name": "stdout",
     "output_type": "stream",
     "text": [
      "<class 'pandas.core.frame.DataFrame'>\n",
      "RangeIndex: 2986 entries, 0 to 2985\n",
      "Data columns (total 13 columns):\n",
      " #   Column                     Non-Null Count  Dtype  \n",
      "---  ------                     --------------  -----  \n",
      " 0   OSEBuildingID              2986 non-null   object \n",
      " 1   DataYear                   2986 non-null   object \n",
      " 2   NumberofFloors             2986 non-null   float64\n",
      " 3   LargestPropertyUseTypeGFA  2986 non-null   float64\n",
      " 4   ENERGYSTARScore            1990 non-null   float64\n",
      " 5   SiteEnergyUse(kBtu)        2986 non-null   float64\n",
      " 6   TotalGHGEmissions          2986 non-null   float64\n",
      " 7   ZipCode                    2986 non-null   object \n",
      " 8   PrimaryUseType             2986 non-null   object \n",
      " 9   building_age               2986 non-null   int64  \n",
      " 10  area_per_floor             2986 non-null   float64\n",
      " 11  percent_parking            2986 non-null   float64\n",
      " 12  distance(km)               2986 non-null   float64\n",
      "dtypes: float64(8), int64(1), object(4)\n",
      "memory usage: 303.4+ KB\n"
     ]
    }
   ],
   "source": [
    "object_cols = ['DataYear', 'ZipCode', 'OSEBuildingID']\n",
    "\n",
    "\n",
    "def corriger_datatypes(df, obj_cols=object_cols):\n",
    "    df = df.copy()\n",
    "    for col in obj_cols:\n",
    "        if col in df:\n",
    "            df[col] = df[col].astype('object')\n",
    "    return df\n",
    "\n",
    "\n",
    "model_df = model_df.pipe(corriger_datatypes)\n",
    "model_df.info(verbose=True)\n"
   ]
  },
  {
   "cell_type": "markdown",
   "metadata": {},
   "source": [
    "## Choix de variables independents (X) et la variable à prédire (y)\n",
    "\n",
    "On va créer plusieurs modèles prenant compte de différents variables independents, pour prédire soit consommation énergétique, soit les emissions CO2. Ci-dessous, une fonction pour simplifier le tâche\n"
   ]
  },
  {
   "cell_type": "code",
   "execution_count": 10,
   "metadata": {},
   "outputs": [
    {
     "name": "stdout",
     "output_type": "stream",
     "text": [
      "['OSEBuildingID', 'DataYear', 'NumberofFloors', 'LargestPropertyUseTypeGFA', 'ENERGYSTARScore', 'SiteEnergyUse(kBtu)', 'TotalGHGEmissions', 'ZipCode', 'PrimaryUseType', 'building_age', 'area_per_floor', 'percent_parking', 'distance(km)']\n"
     ]
    }
   ],
   "source": [
    "print(model_df.columns.tolist())\n"
   ]
  },
  {
   "cell_type": "code",
   "execution_count": 11,
   "metadata": {},
   "outputs": [
    {
     "name": "stdout",
     "output_type": "stream",
     "text": [
      "create_x_y, y=['SiteEnergyUse(kBtu)'], x=['DataYear', 'NumberofFloors', 'LargestPropertyUseTypeGFA', 'ZipCode', 'PrimaryUseType', 'building_age', 'area_per_floor', 'percent_parking', 'distance(km)']\n",
      "(2986, 9)\n",
      "(2986, 1)\n"
     ]
    }
   ],
   "source": [
    "colonnes_x = ['DataYear', 'NumberofFloors', 'LargestPropertyUseTypeGFA', 'ZipCode',\n",
    "              'PrimaryUseType', 'building_age', 'area_per_floor', 'percent_parking', 'distance(km)']\n",
    "\n",
    "colonnes_cibles = ['SiteEnergyUse(kBtu)', 'TotalGHGEmissions']\n",
    "\n",
    "\n",
    "def create_x_y(df, cols_x=colonnes_x, col_y=['SiteEnergyUse(kBtu)']):\n",
    "    cols_x = cols_in_df(df, cols_x)\n",
    "    print(f'create_x_y, y={col_y}, x={cols_x}')\n",
    "    return df[cols_x], df[col_y]\n",
    "\n",
    "\n",
    "bldg_id = model_df[['OSEBuildingID']]\n",
    "x, y = model_df.pipe(create_x_y)\n",
    "print(x.shape)\n",
    "print(y.shape)\n"
   ]
  },
  {
   "cell_type": "markdown",
   "metadata": {},
   "source": [
    "## Division en jeux de données d'entraînement et de test\n",
    "\n",
    "Avant d'encoder les variables catégoriques, et normaliser les variables, il faut diviser entre données d'entrainement et test, pour éviter 'data leakage' :\n",
    "\n",
    "- Pour prédire la consommation énergétique de nouveaux bâtiments, on ne peut pas savoir en avance leur taille, PrimaryUsageType, année de construction, localisation, etc\n",
    "- On utilise les jeux de données test pour simuler ces nouveaux bâtiments : les modèles ne doit pas avoir connaissance de ces données pour améliorer ces prédictions (par exemple, via cross-validation)\n",
    "- Les performances des modèles seront évalués versus ce jeu de 'test'\n",
    "\n",
    "Pour division entre données d'entrainement et test, on a plusieurs stratégies :\n",
    "\n",
    "- une division aléatoire (ex 80% entrainement, 20% test) : Mais on risque de mettre beaucoup de créer de bias dans le jeu d'entrainement si il n'est pas répresentatif de les différent types d'usage de propriété (exemple, si les données d'entrainement contiennent peu d'hopitaux oumanque de data center, ou la consommation énergetique est plus important)\n",
    "\n",
    "- stratification : Essayer de garantie que le jeu de données d'entrainement ont le même distribution par consommation énergétique, ou par property usage, ou par localisation (ZipCode), ou distance du centre, ou par superficie, etc\n"
   ]
  },
  {
   "cell_type": "markdown",
   "metadata": {},
   "source": [
    "### Stratification\n",
    "\n",
    "Pour éviter bias sampling, on essaie de garder les mêmes distributions dans le jeu d'entrainement que dans les données, en supposant que l'echantillon de données fournies sont répresentative de la population de bâtiments à prédireS.\n",
    "\n",
    "Il y a potentiellement beaucoup d'options de stratification à tester (autant que variables independents, si on crée des 'bins' pour les variables numériques)\n",
    "\n",
    "Potentiellement la variable la plus importante à stratifier sera par type d'usage, car l'analyse exploratoire a montré que la consommation énergétique est fortement corrélé avec **'PrimaryUseType'**\n",
    "\n",
    "Utilisant cette stratégie de stratification on attend que les petites, moyennes et grandes consommations énergétiques dans le jeu de données d'entrainement et test sont distribués également entre les jeux de données train et test\n",
    "\n",
    "#### Références\n",
    "\n",
    "- <https://scikit-learn.org/stable/common_pitfalls.html#data-leakage>\n",
    "- <https://scikit-learn.org/stable/modules/generated/sklearn.model_selection.train_test_split.html>\n",
    "- <https://towardsdatascience.com/how-to-master-the-subtle-art-of-train-test-set-generation-7a8408bcd578>\n"
   ]
  },
  {
   "cell_type": "code",
   "execution_count": 12,
   "metadata": {},
   "outputs": [],
   "source": [
    "from sklearn.model_selection import train_test_split\n",
    "\n",
    "x_train, x_test, y_train, y_test = train_test_split(\n",
    "    x, y, test_size=0.2, stratify=x['PrimaryUseType'], random_state=1)\n"
   ]
  },
  {
   "cell_type": "markdown",
   "metadata": {},
   "source": [
    "Verification que la stratification a produit l'effet désiré :\n"
   ]
  },
  {
   "cell_type": "code",
   "execution_count": 13,
   "metadata": {},
   "outputs": [
    {
     "data": {
      "text/html": [
       "<div>\n",
       "<style scoped>\n",
       "    .dataframe tbody tr th:only-of-type {\n",
       "        vertical-align: middle;\n",
       "    }\n",
       "\n",
       "    .dataframe tbody tr th {\n",
       "        vertical-align: top;\n",
       "    }\n",
       "\n",
       "    .dataframe thead tr th {\n",
       "        text-align: left;\n",
       "    }\n",
       "</style>\n",
       "<table border=\"1\" class=\"dataframe\">\n",
       "  <thead>\n",
       "    <tr>\n",
       "      <th></th>\n",
       "      <th colspan=\"2\" halign=\"left\">NumberofFloors</th>\n",
       "      <th colspan=\"2\" halign=\"left\">LargestPropertyUseTypeGFA</th>\n",
       "      <th colspan=\"2\" halign=\"left\">building_age</th>\n",
       "      <th colspan=\"2\" halign=\"left\">area_per_floor</th>\n",
       "      <th colspan=\"2\" halign=\"left\">percent_parking</th>\n",
       "      <th colspan=\"2\" halign=\"left\">distance(km)</th>\n",
       "    </tr>\n",
       "    <tr>\n",
       "      <th>groupe</th>\n",
       "      <th>x_test</th>\n",
       "      <th>x_train</th>\n",
       "      <th>x_test</th>\n",
       "      <th>x_train</th>\n",
       "      <th>x_test</th>\n",
       "      <th>x_train</th>\n",
       "      <th>x_test</th>\n",
       "      <th>x_train</th>\n",
       "      <th>x_test</th>\n",
       "      <th>x_train</th>\n",
       "      <th>x_test</th>\n",
       "      <th>x_train</th>\n",
       "    </tr>\n",
       "  </thead>\n",
       "  <tbody>\n",
       "    <tr>\n",
       "      <th>25%</th>\n",
       "      <td>1.000000</td>\n",
       "      <td>1.000000</td>\n",
       "      <td>2.424400e+04</td>\n",
       "      <td>2.552100e+04</td>\n",
       "      <td>32.000000</td>\n",
       "      <td>34.000000</td>\n",
       "      <td>1.322495e+04</td>\n",
       "      <td>1.192150e+04</td>\n",
       "      <td>0.000000</td>\n",
       "      <td>0.000000</td>\n",
       "      <td>1.373083</td>\n",
       "      <td>1.411373</td>\n",
       "    </tr>\n",
       "    <tr>\n",
       "      <th>50%</th>\n",
       "      <td>2.000000</td>\n",
       "      <td>2.000000</td>\n",
       "      <td>4.310200e+04</td>\n",
       "      <td>4.219000e+04</td>\n",
       "      <td>57.000000</td>\n",
       "      <td>57.000000</td>\n",
       "      <td>2.171800e+04</td>\n",
       "      <td>2.054479e+04</td>\n",
       "      <td>0.000000</td>\n",
       "      <td>0.000000</td>\n",
       "      <td>3.855126</td>\n",
       "      <td>3.797064</td>\n",
       "    </tr>\n",
       "    <tr>\n",
       "      <th>75%</th>\n",
       "      <td>4.000000</td>\n",
       "      <td>4.000000</td>\n",
       "      <td>8.964775e+04</td>\n",
       "      <td>8.854200e+04</td>\n",
       "      <td>92.000000</td>\n",
       "      <td>93.000000</td>\n",
       "      <td>3.370088e+04</td>\n",
       "      <td>3.300500e+04</td>\n",
       "      <td>0.000000</td>\n",
       "      <td>0.000000</td>\n",
       "      <td>6.777894</td>\n",
       "      <td>6.737987</td>\n",
       "    </tr>\n",
       "    <tr>\n",
       "      <th>count</th>\n",
       "      <td>598.000000</td>\n",
       "      <td>2388.000000</td>\n",
       "      <td>5.980000e+02</td>\n",
       "      <td>2.388000e+03</td>\n",
       "      <td>598.000000</td>\n",
       "      <td>2388.000000</td>\n",
       "      <td>5.980000e+02</td>\n",
       "      <td>2.388000e+03</td>\n",
       "      <td>598.000000</td>\n",
       "      <td>2388.000000</td>\n",
       "      <td>598.000000</td>\n",
       "      <td>2388.000000</td>\n",
       "    </tr>\n",
       "    <tr>\n",
       "      <th>max</th>\n",
       "      <td>63.000000</td>\n",
       "      <td>99.000000</td>\n",
       "      <td>1.719643e+06</td>\n",
       "      <td>1.719643e+06</td>\n",
       "      <td>122.000000</td>\n",
       "      <td>122.000000</td>\n",
       "      <td>1.100000e+06</td>\n",
       "      <td>1.100000e+06</td>\n",
       "      <td>0.771173</td>\n",
       "      <td>0.895023</td>\n",
       "      <td>12.859119</td>\n",
       "      <td>13.139924</td>\n",
       "    </tr>\n",
       "    <tr>\n",
       "      <th>mean</th>\n",
       "      <td>4.158863</td>\n",
       "      <td>4.258375</td>\n",
       "      <td>9.160660e+04</td>\n",
       "      <td>9.124849e+04</td>\n",
       "      <td>60.244147</td>\n",
       "      <td>60.902429</td>\n",
       "      <td>3.270004e+04</td>\n",
       "      <td>3.124049e+04</td>\n",
       "      <td>0.062952</td>\n",
       "      <td>0.064747</td>\n",
       "      <td>4.467345</td>\n",
       "      <td>4.438553</td>\n",
       "    </tr>\n",
       "    <tr>\n",
       "      <th>min</th>\n",
       "      <td>1.000000</td>\n",
       "      <td>1.000000</td>\n",
       "      <td>6.455000e+03</td>\n",
       "      <td>5.656000e+03</td>\n",
       "      <td>8.000000</td>\n",
       "      <td>8.000000</td>\n",
       "      <td>4.456000e+03</td>\n",
       "      <td>2.216970e+02</td>\n",
       "      <td>0.000000</td>\n",
       "      <td>0.000000</td>\n",
       "      <td>0.135912</td>\n",
       "      <td>0.057431</td>\n",
       "    </tr>\n",
       "    <tr>\n",
       "      <th>std</th>\n",
       "      <td>6.610472</td>\n",
       "      <td>6.777127</td>\n",
       "      <td>1.582482e+05</td>\n",
       "      <td>1.608813e+05</td>\n",
       "      <td>32.940390</td>\n",
       "      <td>32.595323</td>\n",
       "      <td>5.852689e+04</td>\n",
       "      <td>4.473823e+04</td>\n",
       "      <td>0.140384</td>\n",
       "      <td>0.141457</td>\n",
       "      <td>3.465349</td>\n",
       "      <td>3.376052</td>\n",
       "    </tr>\n",
       "  </tbody>\n",
       "</table>\n",
       "</div>"
      ],
      "text/plain": [
       "       NumberofFloors              LargestPropertyUseTypeGFA                \\\n",
       "groupe         x_test      x_train                    x_test       x_train   \n",
       "25%          1.000000     1.000000              2.424400e+04  2.552100e+04   \n",
       "50%          2.000000     2.000000              4.310200e+04  4.219000e+04   \n",
       "75%          4.000000     4.000000              8.964775e+04  8.854200e+04   \n",
       "count      598.000000  2388.000000              5.980000e+02  2.388000e+03   \n",
       "max         63.000000    99.000000              1.719643e+06  1.719643e+06   \n",
       "mean         4.158863     4.258375              9.160660e+04  9.124849e+04   \n",
       "min          1.000000     1.000000              6.455000e+03  5.656000e+03   \n",
       "std          6.610472     6.777127              1.582482e+05  1.608813e+05   \n",
       "\n",
       "       building_age              area_per_floor               percent_parking  \\\n",
       "groupe       x_test      x_train         x_test       x_train          x_test   \n",
       "25%       32.000000    34.000000   1.322495e+04  1.192150e+04        0.000000   \n",
       "50%       57.000000    57.000000   2.171800e+04  2.054479e+04        0.000000   \n",
       "75%       92.000000    93.000000   3.370088e+04  3.300500e+04        0.000000   \n",
       "count    598.000000  2388.000000   5.980000e+02  2.388000e+03      598.000000   \n",
       "max      122.000000   122.000000   1.100000e+06  1.100000e+06        0.771173   \n",
       "mean      60.244147    60.902429   3.270004e+04  3.124049e+04        0.062952   \n",
       "min        8.000000     8.000000   4.456000e+03  2.216970e+02        0.000000   \n",
       "std       32.940390    32.595323   5.852689e+04  4.473823e+04        0.140384   \n",
       "\n",
       "                    distance(km)               \n",
       "groupe      x_train       x_test      x_train  \n",
       "25%        0.000000     1.373083     1.411373  \n",
       "50%        0.000000     3.855126     3.797064  \n",
       "75%        0.000000     6.777894     6.737987  \n",
       "count   2388.000000   598.000000  2388.000000  \n",
       "max        0.895023    12.859119    13.139924  \n",
       "mean       0.064747     4.467345     4.438553  \n",
       "min        0.000000     0.135912     0.057431  \n",
       "std        0.141457     3.465349     3.376052  "
      ]
     },
     "execution_count": 13,
     "metadata": {},
     "output_type": "execute_result"
    }
   ],
   "source": [
    "x_train_describe = x_train.describe()\n",
    "x_train_describe['groupe'] = 'x_train'\n",
    "x_test_describe = x_test.describe()\n",
    "x_test_describe['groupe'] = 'x_test'\n",
    "pd.concat([x_train_describe, x_test_describe], axis=0).pivot(columns='groupe')\n"
   ]
  },
  {
   "cell_type": "markdown",
   "metadata": {},
   "source": [
    "Les distributions des variables en x_train et x_test semble approximativement similaire.\n",
    "\n",
    "On voit si les consommations énergétiques sont distribués de la même façon :\n"
   ]
  },
  {
   "cell_type": "code",
   "execution_count": 14,
   "metadata": {},
   "outputs": [
    {
     "data": {
      "text/html": [
       "<div>\n",
       "<style scoped>\n",
       "    .dataframe tbody tr th:only-of-type {\n",
       "        vertical-align: middle;\n",
       "    }\n",
       "\n",
       "    .dataframe tbody tr th {\n",
       "        vertical-align: top;\n",
       "    }\n",
       "\n",
       "    .dataframe thead tr th {\n",
       "        text-align: left;\n",
       "    }\n",
       "</style>\n",
       "<table border=\"1\" class=\"dataframe\">\n",
       "  <thead>\n",
       "    <tr>\n",
       "      <th></th>\n",
       "      <th colspan=\"2\" halign=\"left\">SiteEnergyUse(kBtu)</th>\n",
       "    </tr>\n",
       "    <tr>\n",
       "      <th>groupe</th>\n",
       "      <th>y_test</th>\n",
       "      <th>y_train</th>\n",
       "    </tr>\n",
       "  </thead>\n",
       "  <tbody>\n",
       "    <tr>\n",
       "      <th>25%</th>\n",
       "      <td>1.276316e+06</td>\n",
       "      <td>1.227076e+06</td>\n",
       "    </tr>\n",
       "    <tr>\n",
       "      <th>50%</th>\n",
       "      <td>2.490546e+06</td>\n",
       "      <td>2.615611e+06</td>\n",
       "    </tr>\n",
       "    <tr>\n",
       "      <th>75%</th>\n",
       "      <td>6.802188e+06</td>\n",
       "      <td>7.005158e+06</td>\n",
       "    </tr>\n",
       "    <tr>\n",
       "      <th>count</th>\n",
       "      <td>5.980000e+02</td>\n",
       "      <td>2.388000e+03</td>\n",
       "    </tr>\n",
       "    <tr>\n",
       "      <th>max</th>\n",
       "      <td>1.434230e+08</td>\n",
       "      <td>2.958126e+08</td>\n",
       "    </tr>\n",
       "    <tr>\n",
       "      <th>mean</th>\n",
       "      <td>7.236200e+06</td>\n",
       "      <td>7.776629e+06</td>\n",
       "    </tr>\n",
       "    <tr>\n",
       "      <th>min</th>\n",
       "      <td>4.394300e+04</td>\n",
       "      <td>1.715000e+04</td>\n",
       "    </tr>\n",
       "    <tr>\n",
       "      <th>std</th>\n",
       "      <td>1.468593e+07</td>\n",
       "      <td>1.986626e+07</td>\n",
       "    </tr>\n",
       "  </tbody>\n",
       "</table>\n",
       "</div>"
      ],
      "text/plain": [
       "       SiteEnergyUse(kBtu)              \n",
       "groupe              y_test       y_train\n",
       "25%           1.276316e+06  1.227076e+06\n",
       "50%           2.490546e+06  2.615611e+06\n",
       "75%           6.802188e+06  7.005158e+06\n",
       "count         5.980000e+02  2.388000e+03\n",
       "max           1.434230e+08  2.958126e+08\n",
       "mean          7.236200e+06  7.776629e+06\n",
       "min           4.394300e+04  1.715000e+04\n",
       "std           1.468593e+07  1.986626e+07"
      ]
     },
     "execution_count": 14,
     "metadata": {},
     "output_type": "execute_result"
    }
   ],
   "source": [
    "y_train_describe = y_train.describe()\n",
    "y_train_describe['groupe'] = 'y_train'\n",
    "y_test_describe = y_test.describe()\n",
    "y_test_describe['groupe'] = 'y_test'\n",
    "pd.concat([y_train_describe, y_test_describe], axis=0).pivot(columns='groupe')\n"
   ]
  },
  {
   "cell_type": "markdown",
   "metadata": {},
   "source": [
    "Les distributions des variables en y_train et y_test semble approximativement similaire, mais le moyenne et l'écart type sont très influencés par les grands consommateurs d'énergie.\n"
   ]
  },
  {
   "cell_type": "markdown",
   "metadata": {},
   "source": [
    "# 3. Prédiction de la consommation énergétique\n"
   ]
  },
  {
   "cell_type": "code",
   "execution_count": null,
   "metadata": {},
   "outputs": [],
   "source": []
  },
  {
   "cell_type": "markdown",
   "metadata": {},
   "source": [
    "## Modèle baseline (dummyRegressor)\n"
   ]
  },
  {
   "cell_type": "markdown",
   "metadata": {},
   "source": [
    "## Modèle linéaire\n"
   ]
  },
  {
   "cell_type": "markdown",
   "metadata": {},
   "source": [
    "## Modèle non-linéaire\n"
   ]
  },
  {
   "cell_type": "markdown",
   "metadata": {},
   "source": [
    "## Modèle ensembliste\n"
   ]
  },
  {
   "cell_type": "markdown",
   "metadata": {},
   "source": [
    "## Évaluation des prédictions (analyse d'erreurs)\n"
   ]
  },
  {
   "cell_type": "markdown",
   "metadata": {},
   "source": [
    "## Comparaison et choix du modèle\n"
   ]
  },
  {
   "cell_type": "markdown",
   "metadata": {},
   "source": [
    "# 4. Prédiction des émissions CO2\n"
   ]
  },
  {
   "cell_type": "markdown",
   "metadata": {},
   "source": [
    "# 5. Influence de l'ENERGYSTARScore sur les prédictions\n"
   ]
  },
  {
   "cell_type": "markdown",
   "metadata": {},
   "source": [
    "# 6. Résultats\n",
    "\n",
    "## Comparaison des performances des modèles\n"
   ]
  },
  {
   "cell_type": "markdown",
   "metadata": {},
   "source": [
    "# 7. Conclusion\n"
   ]
  }
 ],
 "metadata": {
  "interpreter": {
   "hash": "08f54268de9884c973a82c2c5267bbf1de8fae7577a142dd199c5c3f90c0dd65"
  },
  "kernelspec": {
   "display_name": "Python 3.7.0 64-bit ('OC_3': conda)",
   "language": "python",
   "name": "python3"
  },
  "language_info": {
   "codemirror_mode": {
    "name": "ipython",
    "version": 3
   },
   "file_extension": ".py",
   "mimetype": "text/x-python",
   "name": "python",
   "nbconvert_exporter": "python",
   "pygments_lexer": "ipython3",
   "version": "3.7.0"
  },
  "orig_nbformat": 4
 },
 "nbformat": 4,
 "nbformat_minor": 2
}
